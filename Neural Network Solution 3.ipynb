{
 "cells": [
  {
   "cell_type": "markdown",
   "id": "e7524508",
   "metadata": {},
   "source": [
    "## Neural Network Solution"
   ]
  },
  {
   "cell_type": "markdown",
   "id": "059fcabb",
   "metadata": {},
   "source": [
    "### Formulate the Problem"
   ]
  },
  {
   "cell_type": "markdown",
   "id": "b4183acb",
   "metadata": {},
   "source": [
    "As our lives become more and more involved with technology and social media, we have been exposed to online bullying and harrassment. The internet does not have an HR representitive that a business would have and thus the internet world is often very unprofessional and downright hateful. We can experience this type of behavior on social media such as instagram posts or X comments that can be personal attacks. Last month, I found out that my wife is pregnant, so I am preparing myself to bring a child into this beautiful, cruel world. I want to be able to protect my child from online bullying and I am not alone. Social media companies have been adding protective measures to decrease these attacks that are called \"toxic comments\" and they have been measured by comment toxicity. The Pew research center has concluded a study that 46% of children from the age of 14 and under have experienced some form of online bullying (Vogels, 2022). We can create a NLP model that will learn what words are and the context in which they are used to stop these hateful comments. In this assignment, I have used the Kaggle dataset called \"Toxic Comment Classification Challenge\" to identify the toxic language. In practice, if successful, this would be passed on to software developers who can implement blocking techniques so that the language never sees the public screen. \n",
    "\n",
    "To create the model I will first be importing some libraries that I will be using for data processing such as pandas, numpy, and tensorflow. I will be using tensorflow to create a dataset that will be preprocessed using TextVectorizer. This will make it very easy to preprocess our data in one step without having to worry about punctuation white space and stop words like we would for sentiment analysis models using Naive Bayes or other algorithms. Once the data is tokenized, I will be creating a neural network by embedding our tokens and using two Bidirectional GRU layers to work with the sequential data. Bidirectional data is useful in text chains because the words before and after the word we are currently working with can drastically change the meaning of a sentence. I have chosen to use the Gated Recurrent Unit layer over the LSTM layer because it simplifies the model into having only an input gate and a forget gate. These are combined using a gate controller and if a 1 is given then the forget gate is open and the input gate is closed (Géron, 2019). "
   ]
  },
  {
   "cell_type": "code",
   "execution_count": 1,
   "id": "46b6535f-3cb6-4386-b095-cd73e0350042",
   "metadata": {
    "collapsed": true,
    "tags": []
   },
   "outputs": [
    {
     "name": "stdout",
     "output_type": "stream",
     "text": [
      "Requirement already satisfied: tensorflow in c:\\users\\ryans\\anaconda_3\\lib\\site-packages (2.10.0)\n",
      "Requirement already satisfied: absl-py>=1.0.0 in c:\\users\\ryans\\anaconda_3\\lib\\site-packages (from tensorflow) (1.3.0)\n",
      "Requirement already satisfied: astunparse>=1.6.0 in c:\\users\\ryans\\anaconda_3\\lib\\site-packages (from tensorflow) (1.6.3)\n",
      "Requirement already satisfied: flatbuffers>=2.0 in c:\\users\\ryans\\anaconda_3\\lib\\site-packages (from tensorflow) (2.0)\n",
      "Requirement already satisfied: gast<=0.4.0,>=0.2.1 in c:\\users\\ryans\\anaconda_3\\lib\\site-packages (from tensorflow) (0.4.0)\n",
      "Requirement already satisfied: google-pasta>=0.1.1 in c:\\users\\ryans\\anaconda_3\\lib\\site-packages (from tensorflow) (0.2.0)\n",
      "Requirement already satisfied: h5py>=2.9.0 in c:\\users\\ryans\\anaconda_3\\lib\\site-packages (from tensorflow) (3.7.0)\n",
      "Requirement already satisfied: keras-preprocessing>=1.1.1 in c:\\users\\ryans\\anaconda_3\\lib\\site-packages (from tensorflow) (1.1.2)\n",
      "Requirement already satisfied: libclang>=13.0.0 in c:\\users\\ryans\\anaconda_3\\lib\\site-packages (from tensorflow) (16.0.6)\n",
      "Requirement already satisfied: numpy>=1.20 in c:\\users\\ryans\\anaconda_3\\lib\\site-packages (from tensorflow) (1.23.5)\n",
      "Requirement already satisfied: opt-einsum>=2.3.2 in c:\\users\\ryans\\anaconda_3\\lib\\site-packages (from tensorflow) (3.3.0)\n",
      "Requirement already satisfied: packaging in c:\\users\\ryans\\anaconda_3\\lib\\site-packages (from tensorflow) (23.1)\n",
      "Requirement already satisfied: protobuf<3.20,>=3.9.2 in c:\\users\\ryans\\anaconda_3\\lib\\site-packages (from tensorflow) (3.19.6)\n",
      "Requirement already satisfied: setuptools in c:\\users\\ryans\\anaconda_3\\lib\\site-packages (from tensorflow) (65.6.3)\n",
      "Requirement already satisfied: six>=1.12.0 in c:\\users\\ryans\\anaconda_3\\lib\\site-packages (from tensorflow) (1.16.0)\n",
      "Requirement already satisfied: termcolor>=1.1.0 in c:\\users\\ryans\\anaconda_3\\lib\\site-packages (from tensorflow) (2.1.0)\n",
      "Requirement already satisfied: typing-extensions>=3.6.6 in c:\\users\\ryans\\anaconda_3\\lib\\site-packages (from tensorflow) (4.7.1)\n",
      "Requirement already satisfied: wrapt>=1.11.0 in c:\\users\\ryans\\anaconda_3\\lib\\site-packages (from tensorflow) (1.14.1)\n",
      "Requirement already satisfied: tensorflow-io-gcs-filesystem>=0.23.1 in c:\\users\\ryans\\anaconda_3\\lib\\site-packages (from tensorflow) (0.31.0)\n",
      "Requirement already satisfied: grpcio<2.0,>=1.24.3 in c:\\users\\ryans\\anaconda_3\\lib\\site-packages (from tensorflow) (1.42.0)\n",
      "Requirement already satisfied: tensorboard<2.11,>=2.10 in c:\\users\\ryans\\anaconda_3\\lib\\site-packages (from tensorflow) (2.10.0)\n",
      "Requirement already satisfied: tensorflow-estimator<2.11,>=2.10.0 in c:\\users\\ryans\\anaconda_3\\lib\\site-packages (from tensorflow) (2.10.0)\n",
      "Requirement already satisfied: keras<2.11,>=2.10.0 in c:\\users\\ryans\\anaconda_3\\lib\\site-packages (from tensorflow) (2.10.0)\n",
      "Requirement already satisfied: wheel<1.0,>=0.23.0 in c:\\users\\ryans\\anaconda_3\\lib\\site-packages (from astunparse>=1.6.0->tensorflow) (0.38.4)\n",
      "Requirement already satisfied: google-auth<3,>=1.6.3 in c:\\users\\ryans\\anaconda_3\\lib\\site-packages (from tensorboard<2.11,>=2.10->tensorflow) (2.6.0)\n",
      "Requirement already satisfied: google-auth-oauthlib<0.5,>=0.4.1 in c:\\users\\ryans\\anaconda_3\\lib\\site-packages (from tensorboard<2.11,>=2.10->tensorflow) (0.4.4)\n",
      "Requirement already satisfied: markdown>=2.6.8 in c:\\users\\ryans\\anaconda_3\\lib\\site-packages (from tensorboard<2.11,>=2.10->tensorflow) (3.4.1)\n",
      "Requirement already satisfied: requests<3,>=2.21.0 in c:\\users\\ryans\\anaconda_3\\lib\\site-packages (from tensorboard<2.11,>=2.10->tensorflow) (2.28.1)\n",
      "Requirement already satisfied: tensorboard-data-server<0.7.0,>=0.6.0 in c:\\users\\ryans\\anaconda_3\\lib\\site-packages (from tensorboard<2.11,>=2.10->tensorflow) (0.6.1)\n",
      "Requirement already satisfied: tensorboard-plugin-wit>=1.6.0 in c:\\users\\ryans\\anaconda_3\\lib\\site-packages (from tensorboard<2.11,>=2.10->tensorflow) (1.8.1)\n",
      "Requirement already satisfied: werkzeug>=1.0.1 in c:\\users\\ryans\\anaconda_3\\lib\\site-packages (from tensorboard<2.11,>=2.10->tensorflow) (2.2.2)\n",
      "Requirement already satisfied: cachetools<6.0,>=2.0.0 in c:\\users\\ryans\\anaconda_3\\lib\\site-packages (from google-auth<3,>=1.6.3->tensorboard<2.11,>=2.10->tensorflow) (4.2.2)\n",
      "Requirement already satisfied: pyasn1-modules>=0.2.1 in c:\\users\\ryans\\anaconda_3\\lib\\site-packages (from google-auth<3,>=1.6.3->tensorboard<2.11,>=2.10->tensorflow) (0.2.8)\n",
      "Requirement already satisfied: rsa<5,>=3.1.4 in c:\\users\\ryans\\anaconda_3\\lib\\site-packages (from google-auth<3,>=1.6.3->tensorboard<2.11,>=2.10->tensorflow) (4.7.2)\n",
      "Requirement already satisfied: requests-oauthlib>=0.7.0 in c:\\users\\ryans\\anaconda_3\\lib\\site-packages (from google-auth-oauthlib<0.5,>=0.4.1->tensorboard<2.11,>=2.10->tensorflow) (1.3.0)\n",
      "Requirement already satisfied: charset-normalizer<3,>=2 in c:\\users\\ryans\\anaconda_3\\lib\\site-packages (from requests<3,>=2.21.0->tensorboard<2.11,>=2.10->tensorflow) (2.0.4)\n",
      "Requirement already satisfied: idna<4,>=2.5 in c:\\users\\ryans\\anaconda_3\\lib\\site-packages (from requests<3,>=2.21.0->tensorboard<2.11,>=2.10->tensorflow) (3.4)\n",
      "Requirement already satisfied: urllib3<1.27,>=1.21.1 in c:\\users\\ryans\\anaconda_3\\lib\\site-packages (from requests<3,>=2.21.0->tensorboard<2.11,>=2.10->tensorflow) (1.26.16)\n",
      "Requirement already satisfied: certifi>=2017.4.17 in c:\\users\\ryans\\anaconda_3\\lib\\site-packages (from requests<3,>=2.21.0->tensorboard<2.11,>=2.10->tensorflow) (2023.7.22)\n",
      "Requirement already satisfied: MarkupSafe>=2.1.1 in c:\\users\\ryans\\anaconda_3\\lib\\site-packages (from werkzeug>=1.0.1->tensorboard<2.11,>=2.10->tensorflow) (2.1.1)\n",
      "Requirement already satisfied: pyasn1<0.5.0,>=0.4.6 in c:\\users\\ryans\\anaconda_3\\lib\\site-packages (from pyasn1-modules>=0.2.1->google-auth<3,>=1.6.3->tensorboard<2.11,>=2.10->tensorflow) (0.4.8)\n",
      "Requirement already satisfied: oauthlib>=3.0.0 in c:\\users\\ryans\\anaconda_3\\lib\\site-packages (from requests-oauthlib>=0.7.0->google-auth-oauthlib<0.5,>=0.4.1->tensorboard<2.11,>=2.10->tensorflow) (3.2.1)\n"
     ]
    },
    {
     "name": "stderr",
     "output_type": "stream",
     "text": [
      "WARNING: There was an error checking the latest version of pip.\n"
     ]
    }
   ],
   "source": [
    "!pip install tensorflow"
   ]
  },
  {
   "cell_type": "code",
   "execution_count": 2,
   "id": "83ee9f9e-9e96-496a-9a9c-151b24c60900",
   "metadata": {
    "collapsed": true,
    "tags": []
   },
   "outputs": [
    {
     "name": "stdout",
     "output_type": "stream",
     "text": [
      "Requirement already satisfied: matplotlib in c:\\users\\ryans\\anaconda_3\\lib\\site-packages (3.7.2)"
     ]
    },
    {
     "name": "stderr",
     "output_type": "stream",
     "text": [
      "WARNING: There was an error checking the latest version of pip.\n"
     ]
    },
    {
     "name": "stdout",
     "output_type": "stream",
     "text": [
      "\n",
      "Requirement already satisfied: seaborn in c:\\users\\ryans\\anaconda_3\\lib\\site-packages (0.12.2)\n",
      "Requirement already satisfied: contourpy>=1.0.1 in c:\\users\\ryans\\anaconda_3\\lib\\site-packages (from matplotlib) (1.0.5)\n",
      "Requirement already satisfied: cycler>=0.10 in c:\\users\\ryans\\anaconda_3\\lib\\site-packages (from matplotlib) (0.11.0)\n",
      "Requirement already satisfied: fonttools>=4.22.0 in c:\\users\\ryans\\anaconda_3\\lib\\site-packages (from matplotlib) (4.25.0)\n",
      "Requirement already satisfied: kiwisolver>=1.0.1 in c:\\users\\ryans\\anaconda_3\\lib\\site-packages (from matplotlib) (1.4.4)\n",
      "Requirement already satisfied: numpy>=1.20 in c:\\users\\ryans\\anaconda_3\\lib\\site-packages (from matplotlib) (1.23.5)\n",
      "Requirement already satisfied: packaging>=20.0 in c:\\users\\ryans\\anaconda_3\\lib\\site-packages (from matplotlib) (23.1)\n",
      "Requirement already satisfied: pillow>=6.2.0 in c:\\users\\ryans\\anaconda_3\\lib\\site-packages (from matplotlib) (9.4.0)\n",
      "Requirement already satisfied: pyparsing<3.1,>=2.3.1 in c:\\users\\ryans\\anaconda_3\\lib\\site-packages (from matplotlib) (3.0.9)\n",
      "Requirement already satisfied: python-dateutil>=2.7 in c:\\users\\ryans\\anaconda_3\\lib\\site-packages (from matplotlib) (2.8.2)\n",
      "Requirement already satisfied: pandas>=0.25 in c:\\users\\ryans\\anaconda_3\\lib\\site-packages (from seaborn) (2.0.3)\n",
      "Requirement already satisfied: pytz>=2020.1 in c:\\users\\ryans\\anaconda_3\\lib\\site-packages (from pandas>=0.25->seaborn) (2023.3.post1)\n",
      "Requirement already satisfied: tzdata>=2022.1 in c:\\users\\ryans\\anaconda_3\\lib\\site-packages (from pandas>=0.25->seaborn) (2023.3)\n",
      "Requirement already satisfied: six>=1.5 in c:\\users\\ryans\\anaconda_3\\lib\\site-packages (from python-dateutil>=2.7->matplotlib) (1.16.0)\n"
     ]
    }
   ],
   "source": [
    "!pip install matplotlib seaborn"
   ]
  },
  {
   "cell_type": "code",
   "execution_count": 58,
   "id": "2c490c64",
   "metadata": {},
   "outputs": [],
   "source": [
    "# import libraries\n",
    "import pandas as pd\n",
    "import tensorflow as tf\n",
    "import numpy as np\n",
    "from matplotlib import pyplot as plt\n",
    "import seaborn as sns\n",
    "import warnings\n",
    "warnings.filterwarnings('ignore')"
   ]
  },
  {
   "cell_type": "markdown",
   "id": "b7a917ce",
   "metadata": {},
   "source": [
    "### Descriptive Analysis of Data"
   ]
  },
  {
   "cell_type": "markdown",
   "id": "e6a9e238",
   "metadata": {},
   "source": [
    "This data consists of over 150,000 comments with six different categories of toxic comments. When toxic comments appear on different platforms it is important to be able to disable them and also identify what kind of toxic comment they are. For example a threat may be something that needs to be followed up on more than just a toxic comment itself. The categories are:\n",
    "+ toxic\n",
    "+ severe toxic\n",
    "+ obscene\n",
    "+ threat\n",
    "+ insult\n",
    "+ identity hate"
   ]
  },
  {
   "cell_type": "code",
   "execution_count": 59,
   "id": "8d72eb41",
   "metadata": {},
   "outputs": [],
   "source": [
    "# import the data\n",
    "df = pd.read_csv(\"C:/Users/ryans/Documents/Neural Netwoks-Deep Learning/Neural Network Solution/toxic-comment-classification/train.csv/train.csv\")"
   ]
  },
  {
   "cell_type": "code",
   "execution_count": 60,
   "id": "d45690f2",
   "metadata": {},
   "outputs": [
    {
     "data": {
      "text/html": [
       "<div>\n",
       "<style scoped>\n",
       "    .dataframe tbody tr th:only-of-type {\n",
       "        vertical-align: middle;\n",
       "    }\n",
       "\n",
       "    .dataframe tbody tr th {\n",
       "        vertical-align: top;\n",
       "    }\n",
       "\n",
       "    .dataframe thead th {\n",
       "        text-align: right;\n",
       "    }\n",
       "</style>\n",
       "<table border=\"1\" class=\"dataframe\">\n",
       "  <thead>\n",
       "    <tr style=\"text-align: right;\">\n",
       "      <th></th>\n",
       "      <th>id</th>\n",
       "      <th>comment_text</th>\n",
       "      <th>toxic</th>\n",
       "      <th>severe_toxic</th>\n",
       "      <th>obscene</th>\n",
       "      <th>threat</th>\n",
       "      <th>insult</th>\n",
       "      <th>identity_hate</th>\n",
       "    </tr>\n",
       "  </thead>\n",
       "  <tbody>\n",
       "    <tr>\n",
       "      <th>0</th>\n",
       "      <td>0000997932d777bf</td>\n",
       "      <td>Explanation\\nWhy the edits made under my usern...</td>\n",
       "      <td>0</td>\n",
       "      <td>0</td>\n",
       "      <td>0</td>\n",
       "      <td>0</td>\n",
       "      <td>0</td>\n",
       "      <td>0</td>\n",
       "    </tr>\n",
       "    <tr>\n",
       "      <th>1</th>\n",
       "      <td>000103f0d9cfb60f</td>\n",
       "      <td>D'aww! He matches this background colour I'm s...</td>\n",
       "      <td>0</td>\n",
       "      <td>0</td>\n",
       "      <td>0</td>\n",
       "      <td>0</td>\n",
       "      <td>0</td>\n",
       "      <td>0</td>\n",
       "    </tr>\n",
       "    <tr>\n",
       "      <th>2</th>\n",
       "      <td>000113f07ec002fd</td>\n",
       "      <td>Hey man, I'm really not trying to edit war. It...</td>\n",
       "      <td>0</td>\n",
       "      <td>0</td>\n",
       "      <td>0</td>\n",
       "      <td>0</td>\n",
       "      <td>0</td>\n",
       "      <td>0</td>\n",
       "    </tr>\n",
       "    <tr>\n",
       "      <th>3</th>\n",
       "      <td>0001b41b1c6bb37e</td>\n",
       "      <td>\"\\nMore\\nI can't make any real suggestions on ...</td>\n",
       "      <td>0</td>\n",
       "      <td>0</td>\n",
       "      <td>0</td>\n",
       "      <td>0</td>\n",
       "      <td>0</td>\n",
       "      <td>0</td>\n",
       "    </tr>\n",
       "    <tr>\n",
       "      <th>4</th>\n",
       "      <td>0001d958c54c6e35</td>\n",
       "      <td>You, sir, are my hero. Any chance you remember...</td>\n",
       "      <td>0</td>\n",
       "      <td>0</td>\n",
       "      <td>0</td>\n",
       "      <td>0</td>\n",
       "      <td>0</td>\n",
       "      <td>0</td>\n",
       "    </tr>\n",
       "  </tbody>\n",
       "</table>\n",
       "</div>"
      ],
      "text/plain": [
       "                 id                                       comment_text  toxic  \\\n",
       "0  0000997932d777bf  Explanation\\nWhy the edits made under my usern...      0   \n",
       "1  000103f0d9cfb60f  D'aww! He matches this background colour I'm s...      0   \n",
       "2  000113f07ec002fd  Hey man, I'm really not trying to edit war. It...      0   \n",
       "3  0001b41b1c6bb37e  \"\\nMore\\nI can't make any real suggestions on ...      0   \n",
       "4  0001d958c54c6e35  You, sir, are my hero. Any chance you remember...      0   \n",
       "\n",
       "   severe_toxic  obscene  threat  insult  identity_hate  \n",
       "0             0        0       0       0              0  \n",
       "1             0        0       0       0              0  \n",
       "2             0        0       0       0              0  \n",
       "3             0        0       0       0              0  \n",
       "4             0        0       0       0              0  "
      ]
     },
     "execution_count": 60,
     "metadata": {},
     "output_type": "execute_result"
    }
   ],
   "source": [
    "# view first 5 rows\n",
    "df.head()"
   ]
  },
  {
   "cell_type": "code",
   "execution_count": 61,
   "id": "82ec0cdc",
   "metadata": {},
   "outputs": [
    {
     "data": {
      "text/html": [
       "<div>\n",
       "<style scoped>\n",
       "    .dataframe tbody tr th:only-of-type {\n",
       "        vertical-align: middle;\n",
       "    }\n",
       "\n",
       "    .dataframe tbody tr th {\n",
       "        vertical-align: top;\n",
       "    }\n",
       "\n",
       "    .dataframe thead th {\n",
       "        text-align: right;\n",
       "    }\n",
       "</style>\n",
       "<table border=\"1\" class=\"dataframe\">\n",
       "  <thead>\n",
       "    <tr style=\"text-align: right;\">\n",
       "      <th></th>\n",
       "      <th>id</th>\n",
       "      <th>comment_text</th>\n",
       "      <th>toxic</th>\n",
       "      <th>severe_toxic</th>\n",
       "      <th>obscene</th>\n",
       "      <th>threat</th>\n",
       "      <th>insult</th>\n",
       "      <th>identity_hate</th>\n",
       "    </tr>\n",
       "  </thead>\n",
       "  <tbody>\n",
       "    <tr>\n",
       "      <th>159566</th>\n",
       "      <td>ffe987279560d7ff</td>\n",
       "      <td>\":::::And for the second time of asking, when ...</td>\n",
       "      <td>0</td>\n",
       "      <td>0</td>\n",
       "      <td>0</td>\n",
       "      <td>0</td>\n",
       "      <td>0</td>\n",
       "      <td>0</td>\n",
       "    </tr>\n",
       "    <tr>\n",
       "      <th>159567</th>\n",
       "      <td>ffea4adeee384e90</td>\n",
       "      <td>You should be ashamed of yourself \\n\\nThat is ...</td>\n",
       "      <td>0</td>\n",
       "      <td>0</td>\n",
       "      <td>0</td>\n",
       "      <td>0</td>\n",
       "      <td>0</td>\n",
       "      <td>0</td>\n",
       "    </tr>\n",
       "    <tr>\n",
       "      <th>159568</th>\n",
       "      <td>ffee36eab5c267c9</td>\n",
       "      <td>Spitzer \\n\\nUmm, theres no actual article for ...</td>\n",
       "      <td>0</td>\n",
       "      <td>0</td>\n",
       "      <td>0</td>\n",
       "      <td>0</td>\n",
       "      <td>0</td>\n",
       "      <td>0</td>\n",
       "    </tr>\n",
       "    <tr>\n",
       "      <th>159569</th>\n",
       "      <td>fff125370e4aaaf3</td>\n",
       "      <td>And it looks like it was actually you who put ...</td>\n",
       "      <td>0</td>\n",
       "      <td>0</td>\n",
       "      <td>0</td>\n",
       "      <td>0</td>\n",
       "      <td>0</td>\n",
       "      <td>0</td>\n",
       "    </tr>\n",
       "    <tr>\n",
       "      <th>159570</th>\n",
       "      <td>fff46fc426af1f9a</td>\n",
       "      <td>\"\\nAnd ... I really don't think you understand...</td>\n",
       "      <td>0</td>\n",
       "      <td>0</td>\n",
       "      <td>0</td>\n",
       "      <td>0</td>\n",
       "      <td>0</td>\n",
       "      <td>0</td>\n",
       "    </tr>\n",
       "  </tbody>\n",
       "</table>\n",
       "</div>"
      ],
      "text/plain": [
       "                      id                                       comment_text  \\\n",
       "159566  ffe987279560d7ff  \":::::And for the second time of asking, when ...   \n",
       "159567  ffea4adeee384e90  You should be ashamed of yourself \\n\\nThat is ...   \n",
       "159568  ffee36eab5c267c9  Spitzer \\n\\nUmm, theres no actual article for ...   \n",
       "159569  fff125370e4aaaf3  And it looks like it was actually you who put ...   \n",
       "159570  fff46fc426af1f9a  \"\\nAnd ... I really don't think you understand...   \n",
       "\n",
       "        toxic  severe_toxic  obscene  threat  insult  identity_hate  \n",
       "159566      0             0        0       0       0              0  \n",
       "159567      0             0        0       0       0              0  \n",
       "159568      0             0        0       0       0              0  \n",
       "159569      0             0        0       0       0              0  \n",
       "159570      0             0        0       0       0              0  "
      ]
     },
     "execution_count": 61,
     "metadata": {},
     "output_type": "execute_result"
    }
   ],
   "source": [
    "# view last 5 rows\n",
    "df.tail()"
   ]
  },
  {
   "cell_type": "markdown",
   "id": "7211216a",
   "metadata": {},
   "source": [
    "Now we shrink the data due to long run times. In practice, we will be working with nuch more computational power. This will most likely cause our model to lose accuracy but will still give us an idea that we are on the right track with our model creation."
   ]
  },
  {
   "cell_type": "code",
   "execution_count": 62,
   "id": "b22b26d1",
   "metadata": {},
   "outputs": [],
   "source": [
    "# shrink our data so we do not work with so many comments\n",
    "df = df.sample(10000)"
   ]
  },
  {
   "cell_type": "code",
   "execution_count": 63,
   "id": "246cca04",
   "metadata": {},
   "outputs": [
    {
     "data": {
      "text/plain": [
       "10000"
      ]
     },
     "execution_count": 63,
     "metadata": {},
     "output_type": "execute_result"
    }
   ],
   "source": [
    "len(df)"
   ]
  },
  {
   "cell_type": "markdown",
   "id": "22963f46",
   "metadata": {},
   "source": [
    "#### EDA / Target Variable Plot"
   ]
  },
  {
   "cell_type": "markdown",
   "id": "933be25d",
   "metadata": {},
   "source": [
    "In our data the target variable consists of 6 different categories of toxic comments. We can think of these as all being toxic comments but with different criteria such as threat being a comment that may send fear to someone whereas identity_hate may be a racist or homophobic comment. Some of the comments can be multiple categories at once. Now we can see value counts and plot the data to see what type of comments we are dealing with, and which are the most common. "
   ]
  },
  {
   "cell_type": "code",
   "execution_count": 64,
   "id": "e6e765af",
   "metadata": {},
   "outputs": [
    {
     "data": {
      "text/plain": [
       "toxic\n",
       "0    9075\n",
       "1     925\n",
       "Name: count, dtype: int64"
      ]
     },
     "execution_count": 64,
     "metadata": {},
     "output_type": "execute_result"
    }
   ],
   "source": [
    "# view count of toxic comments\n",
    "df['toxic'].value_counts()"
   ]
  },
  {
   "cell_type": "code",
   "execution_count": 65,
   "id": "a1b50c6b",
   "metadata": {},
   "outputs": [
    {
     "data": {
      "text/plain": [
       "severe_toxic\n",
       "0    9905\n",
       "1      95\n",
       "Name: count, dtype: int64"
      ]
     },
     "execution_count": 65,
     "metadata": {},
     "output_type": "execute_result"
    }
   ],
   "source": [
    "# view severe toxic comments\n",
    "df['severe_toxic'].value_counts()"
   ]
  },
  {
   "cell_type": "code",
   "execution_count": 66,
   "id": "4f99ddd1",
   "metadata": {},
   "outputs": [
    {
     "data": {
      "text/plain": [
       "obscene\n",
       "0    9491\n",
       "1     509\n",
       "Name: count, dtype: int64"
      ]
     },
     "execution_count": 66,
     "metadata": {},
     "output_type": "execute_result"
    }
   ],
   "source": [
    "# view obscene comments\n",
    "df['obscene'].value_counts()"
   ]
  },
  {
   "cell_type": "code",
   "execution_count": 67,
   "id": "d25342a7",
   "metadata": {},
   "outputs": [
    {
     "data": {
      "text/plain": [
       "insult\n",
       "0    9525\n",
       "1     475\n",
       "Name: count, dtype: int64"
      ]
     },
     "execution_count": 67,
     "metadata": {},
     "output_type": "execute_result"
    }
   ],
   "source": [
    "# view insult comments\n",
    "df['insult'].value_counts()"
   ]
  },
  {
   "cell_type": "code",
   "execution_count": 68,
   "id": "9545f033",
   "metadata": {},
   "outputs": [
    {
     "data": {
      "text/plain": [
       "threat\n",
       "0    9966\n",
       "1      34\n",
       "Name: count, dtype: int64"
      ]
     },
     "execution_count": 68,
     "metadata": {},
     "output_type": "execute_result"
    }
   ],
   "source": [
    "# view threat comments\n",
    "df['threat'].value_counts()"
   ]
  },
  {
   "cell_type": "code",
   "execution_count": 69,
   "id": "bbcd82e3",
   "metadata": {},
   "outputs": [
    {
     "data": {
      "text/plain": [
       "identity_hate\n",
       "0    9922\n",
       "1      78\n",
       "Name: count, dtype: int64"
      ]
     },
     "execution_count": 69,
     "metadata": {},
     "output_type": "execute_result"
    }
   ],
   "source": [
    "# view identity hate\n",
    "df['identity_hate'].value_counts()"
   ]
  },
  {
   "cell_type": "markdown",
   "id": "5af736f2",
   "metadata": {},
   "source": [
    "From our graph, we can see that out of the 6 categories, most of the toxic comments are labeled as toxic with threat being the least likely."
   ]
  },
  {
   "cell_type": "code",
   "execution_count": 71,
   "id": "0fccdf4a",
   "metadata": {},
   "outputs": [
    {
     "data": {
      "image/png": "[encoded data removed]",
      "text/plain": [
       "<Figure size 800x400 with 1 Axes>"
      ]
     },
     "metadata": {},
     "output_type": "display_data"
    }
   ],
   "source": [
    "# plot our data\n",
    "plt.figure(figsize=(8,4))\n",
    "sns.barplot(df)\n",
    "plt.title('Bar Graph of Toxic Comments')\n",
    "plt.show()"
   ]
  },
  {
   "cell_type": "markdown",
   "id": "eee1a959",
   "metadata": {},
   "source": [
    "#### Graphic Language Warning\n",
    "While working with real data and real-world problems we will sometimes find unprofessional language and even hate speech. I appologize for the obscene language but we are trying to protect those online from this type of behavior. As we can see from the insults below these are horrible things to say but are found frequently online. When living with a Christian Worldview, we always try to ensure that everyone is treated equally and fairly. If someone is greeted with one of these comments online it would make them feel very badly or even scared. This is something that happens often online and our focus is to get these comments blocked."
   ]
  },
  {
   "cell_type": "code",
   "execution_count": 72,
   "id": "d4e3ad2d",
   "metadata": {},
   "outputs": [
    {
     "data": {
      "text/html": [
       "<div>\n",
       "<style scoped>\n",
       "    .dataframe tbody tr th:only-of-type {\n",
       "        vertical-align: middle;\n",
       "    }\n",
       "\n",
       "    .dataframe tbody tr th {\n",
       "        vertical-align: top;\n",
       "    }\n",
       "\n",
       "    .dataframe thead th {\n",
       "        text-align: right;\n",
       "    }\n",
       "</style>\n",
       "<table border=\"1\" class=\"dataframe\">\n",
       "  <thead>\n",
       "    <tr style=\"text-align: right;\">\n",
       "      <th></th>\n",
       "      <th>id</th>\n",
       "      <th>comment_text</th>\n",
       "      <th>toxic</th>\n",
       "      <th>severe_toxic</th>\n",
       "      <th>obscene</th>\n",
       "      <th>threat</th>\n",
       "      <th>insult</th>\n",
       "      <th>identity_hate</th>\n",
       "    </tr>\n",
       "  </thead>\n",
       "  <tbody>\n",
       "    <tr>\n",
       "      <th>153351</th>\n",
       "      <td>9babf511cc520560</td>\n",
       "      <td>\"\\n\\n More Vandalism \\nCan somebody show me ho...</td>\n",
       "      <td>1</td>\n",
       "      <td>0</td>\n",
       "      <td>0</td>\n",
       "      <td>0</td>\n",
       "      <td>1</td>\n",
       "      <td>0</td>\n",
       "    </tr>\n",
       "    <tr>\n",
       "      <th>16084</th>\n",
       "      <td>2a73476b5227617e</td>\n",
       "      <td>\"\\n\\n it seems that you are very busy in pushi...</td>\n",
       "      <td>1</td>\n",
       "      <td>0</td>\n",
       "      <td>1</td>\n",
       "      <td>0</td>\n",
       "      <td>1</td>\n",
       "      <td>0</td>\n",
       "    </tr>\n",
       "    <tr>\n",
       "      <th>16113</th>\n",
       "      <td>2a87fe6116dd5766</td>\n",
       "      <td>Neither was your mum, when I had sex with her</td>\n",
       "      <td>1</td>\n",
       "      <td>0</td>\n",
       "      <td>0</td>\n",
       "      <td>0</td>\n",
       "      <td>1</td>\n",
       "      <td>0</td>\n",
       "    </tr>\n",
       "    <tr>\n",
       "      <th>133467</th>\n",
       "      <td>ca0689aac86f8cc1</td>\n",
       "      <td>What a lying BITCH!!! Look at this shyt \\n\\nht...</td>\n",
       "      <td>1</td>\n",
       "      <td>0</td>\n",
       "      <td>1</td>\n",
       "      <td>0</td>\n",
       "      <td>1</td>\n",
       "      <td>0</td>\n",
       "    </tr>\n",
       "    <tr>\n",
       "      <th>87855</th>\n",
       "      <td>eb07e2bded5e7cba</td>\n",
       "      <td>!!! NO ONE CAN KEEP ME FROM HERE YOU DUMB PIEC...</td>\n",
       "      <td>1</td>\n",
       "      <td>0</td>\n",
       "      <td>1</td>\n",
       "      <td>0</td>\n",
       "      <td>1</td>\n",
       "      <td>0</td>\n",
       "    </tr>\n",
       "  </tbody>\n",
       "</table>\n",
       "</div>"
      ],
      "text/plain": [
       "                      id                                       comment_text  \\\n",
       "153351  9babf511cc520560  \"\\n\\n More Vandalism \\nCan somebody show me ho...   \n",
       "16084   2a73476b5227617e  \"\\n\\n it seems that you are very busy in pushi...   \n",
       "16113   2a87fe6116dd5766      Neither was your mum, when I had sex with her   \n",
       "133467  ca0689aac86f8cc1  What a lying BITCH!!! Look at this shyt \\n\\nht...   \n",
       "87855   eb07e2bded5e7cba  !!! NO ONE CAN KEEP ME FROM HERE YOU DUMB PIEC...   \n",
       "\n",
       "        toxic  severe_toxic  obscene  threat  insult  identity_hate  \n",
       "153351      1             0        0       0       1              0  \n",
       "16084       1             0        1       0       1              0  \n",
       "16113       1             0        0       0       1              0  \n",
       "133467      1             0        1       0       1              0  \n",
       "87855       1             0        1       0       1              0  "
      ]
     },
     "execution_count": 72,
     "metadata": {},
     "output_type": "execute_result"
    }
   ],
   "source": [
    "# view some insults\n",
    "df[df['insult'] == 1].head()"
   ]
  },
  {
   "cell_type": "markdown",
   "id": "476fec19",
   "metadata": {},
   "source": [
    "### Preprocessing Steps Start Here"
   ]
  },
  {
   "cell_type": "markdown",
   "id": "f30e59f9",
   "metadata": {},
   "source": [
    "### Tokenize the words\n",
    "The first step in our preprocessing is to tokenize the words. Tokenizing the words means that we separate the string into separate words. We do this because each word will be given its own numerical representation and then we use an embedding technique. This can be done using the nltk library where we would tokenize the word, delete stop words, and remove puncuation. To make things easier, I will be using TextVectorization from tensorflow.keras.layers that will do all of this for us. This is how the data is going to be cleaned and standardized. It is standardized by splitting the words, lowercasing the words, and removing puncuation all in one step. \n",
    "\n",
    "In our data we have one feature which will be the \"comment_text\" column, however, this will be much larger once the words are tokenized and embedded. We then have 6 target variables which are the possible toxic comment categories. The outliers in our data are handled by setting our max vocabulary words and comment length. Once our top 100,000 words are met, the rest of the words are tokenized with a 0. Any sentence that is not the same length as our max sentence lenth will also be padded with zeros. We can use **max_zero=True** in our embedding layer so that the model will not need to learn that these padding layers should be ignored. However, if we do not include it, the model should be able to learn this as well. "
   ]
  },
  {
   "cell_type": "code",
   "execution_count": 73,
   "id": "f1a293d6",
   "metadata": {},
   "outputs": [],
   "source": [
    "# import TextVectorization\n",
    "from tensorflow.keras.layers import TextVectorization"
   ]
  },
  {
   "cell_type": "code",
   "execution_count": 75,
   "id": "12f8b4b1",
   "metadata": {},
   "outputs": [],
   "source": [
    "# create X an y. Comments are X and Toxic Categories are y\n",
    "X = df['comment_text']\n",
    "y = df[df.columns[2:]]"
   ]
  },
  {
   "cell_type": "code",
   "execution_count": 76,
   "id": "2cbe404e",
   "metadata": {},
   "outputs": [],
   "source": [
    "# change y to arrays\n",
    "y = y.values"
   ]
  },
  {
   "cell_type": "code",
   "execution_count": 77,
   "id": "ab3d06bd",
   "metadata": {},
   "outputs": [
    {
     "data": {
      "text/plain": [
       "array([[0, 0, 0, 0, 0, 0],\n",
       "       [1, 0, 0, 0, 1, 0],\n",
       "       [0, 0, 0, 0, 0, 0],\n",
       "       ...,\n",
       "       [1, 0, 1, 0, 1, 0],\n",
       "       [0, 0, 1, 0, 1, 0],\n",
       "       [0, 0, 0, 0, 0, 0]], dtype=int64)"
      ]
     },
     "execution_count": 77,
     "metadata": {},
     "output_type": "execute_result"
    }
   ],
   "source": [
    "# view y\n",
    "y"
   ]
  },
  {
   "cell_type": "code",
   "execution_count": 78,
   "id": "7693b13f",
   "metadata": {},
   "outputs": [
    {
     "data": {
      "text/plain": [
       "92726     \"\\n\\n ? No. That's your interpretation. I simp...\n",
       "153351    \"\\n\\n More Vandalism \\nCan somebody show me ho...\n",
       "9834      \"\\n\\n Comments \\n\\nPer \"\"Note that in many cas...\n",
       "70325     Medium Pimpin & Live Prayer \\n\\nHi Merope,\\n\\n...\n",
       "125527    \".  He received approx $2 million from Copelan...\n",
       "                                ...                        \n",
       "123998               Vandalism? What are you talking about?\n",
       "89327     \", especially how it relates to the expression...\n",
       "13193                 |unblock| all of you can suck my dick\n",
       "94315     \"\\n\\n Geez Hesp, as well as being a coward you...\n",
       "44037     You and your friends are 13 years old, in eigh...\n",
       "Name: comment_text, Length: 10000, dtype: object"
      ]
     },
     "execution_count": 78,
     "metadata": {},
     "output_type": "execute_result"
    }
   ],
   "source": [
    "# view X\n",
    "X"
   ]
  },
  {
   "cell_type": "code",
   "execution_count": 79,
   "id": "94b1a348",
   "metadata": {},
   "outputs": [],
   "source": [
    "# set max vocab words and sentence length\n",
    "vocab_words = 100000"
   ]
  },
  {
   "cell_type": "markdown",
   "id": "705b21ff-9bcc-4d17-98d2-d7b87522f6ba",
   "metadata": {},
   "source": [
    "This is where our model will be standardized sort of like an sklearn StandardScaler where we first create the shell then fit and transform our data. The vectorizer will use 1000 words with a sentence length of 500 characters that will be transformed into integers. These numbers will help dictate the results from our model. The larger the numbers, the more our model can learn but the model will grow very large in size very quickly. We then use **adapt** to fit it to our X data and use .values to transform it into a numpy array like we have done with our LSTM model project. "
   ]
  },
  {
   "cell_type": "code",
   "execution_count": 80,
   "id": "b941b902",
   "metadata": {},
   "outputs": [],
   "source": [
    "# create vectorizer\n",
    "vectorizer = TextVectorization(max_tokens = vocab_words, output_sequence_length= 500,\n",
    "                              output_mode = 'int')"
   ]
  },
  {
   "cell_type": "code",
   "execution_count": 81,
   "id": "6c90c98b",
   "metadata": {},
   "outputs": [],
   "source": [
    "# fit to vectorizer\n",
    "vectorizer.adapt(X.values)"
   ]
  },
  {
   "cell_type": "markdown",
   "id": "9ab92f18-2841-4f0f-9521-6b8460c8f79e",
   "metadata": {},
   "source": [
    "Here we see that the word \"you\" has been numerically represented as the number 8. It is lowercased because that is part of the standardizing that TextVectorization does for us."
   ]
  },
  {
   "cell_type": "code",
   "execution_count": 83,
   "id": "599a904b",
   "metadata": {
    "scrolled": true
   },
   "outputs": [
    {
     "data": {
      "text/plain": [
       "'you'"
      ]
     },
     "execution_count": 83,
     "metadata": {},
     "output_type": "execute_result"
    }
   ],
   "source": [
    "# can view the vocabulary if we want \n",
    "vectorizer.get_vocabulary()[8]"
   ]
  },
  {
   "cell_type": "code",
   "execution_count": 84,
   "id": "86192cbc",
   "metadata": {},
   "outputs": [
    {
     "data": {
      "text/plain": [
       "['a', 'and', 'i', 'you', 'is']"
      ]
     },
     "execution_count": 84,
     "metadata": {},
     "output_type": "execute_result"
    }
   ],
   "source": [
    "# view some of the vocabulary\n",
    "vectorizer.get_vocabulary()[5:10]"
   ]
  },
  {
   "cell_type": "code",
   "execution_count": 85,
   "id": "3f0514e0",
   "metadata": {},
   "outputs": [
    {
     "data": {
      "text/plain": [
       "<tf.Tensor: shape=(5,), dtype=int64, numpy=array([1760,   84,    7,  892,    8], dtype=int64)>"
      ]
     },
     "execution_count": 85,
     "metadata": {},
     "output_type": "execute_result"
    }
   ],
   "source": [
    "# Check the numerical representation of this sentence\n",
    "vectorizer(\"Shut up, I hate you!\")[:5]"
   ]
  },
  {
   "cell_type": "code",
   "execution_count": 86,
   "id": "cb6242b3",
   "metadata": {},
   "outputs": [],
   "source": [
    "# set our standardized data as tokenized\n",
    "tokenized = vectorizer(X.values)"
   ]
  },
  {
   "cell_type": "markdown",
   "id": "439e0c32",
   "metadata": {},
   "source": [
    "The zeros we see at the end of the array are padded. This is because the sentence was not that long."
   ]
  },
  {
   "cell_type": "code",
   "execution_count": 87,
   "id": "d40a7b4d",
   "metadata": {},
   "outputs": [
    {
     "data": {
      "text/plain": [
       "<tf.Tensor: shape=(10000, 500), dtype=int64, numpy=\n",
       "array([[   53,   193,    21, ...,     0,     0,     0],\n",
       "       [   60,   242,    40, ...,     0,     0,     0],\n",
       "       [  210,   461,   186, ...,     0,     0,     0],\n",
       "       ...,\n",
       "       [  873,    45,     4, ...,     0,     0,     0],\n",
       "       [11312, 15735,    18, ...,     0,     0,     0],\n",
       "       [    8,     6,    21, ...,     0,     0,     0]], dtype=int64)>"
      ]
     },
     "execution_count": 87,
     "metadata": {},
     "output_type": "execute_result"
    }
   ],
   "source": [
    "# now we are vectorized - 0 means was not 500 long\n",
    "tokenized"
   ]
  },
  {
   "cell_type": "markdown",
   "id": "ccd82564",
   "metadata": {},
   "source": [
    "### Create Dataset\n",
    "This portion is very similar to our CNN project. Here we will be using the help of tf.data.Dataset to create a dataset in the correct format for us to work with. This will also shuffle our data and create batches of comments for us. "
   ]
  },
  {
   "cell_type": "code",
   "execution_count": 88,
   "id": "ec8c51bd",
   "metadata": {},
   "outputs": [],
   "source": [
    "# create dataset using our tokenized comments\n",
    "dataset = tf.data.Dataset.from_tensor_slices((tokenized, y))"
   ]
  },
  {
   "cell_type": "code",
   "execution_count": 89,
   "id": "4802b3d1",
   "metadata": {},
   "outputs": [],
   "source": [
    "# pipeline\n",
    "dataset = dataset.cache()\n",
    "dataset = dataset.shuffle(11000)\n",
    "dataset = dataset.batch(16)\n",
    "dataset = dataset.prefetch(8)"
   ]
  },
  {
   "cell_type": "markdown",
   "id": "e0a17bae",
   "metadata": {},
   "source": [
    "We have some toxic comments in this batch. The first part of the array you see here is the comments in their tokenized form and the second array is the target variables for each of the comments. There are 16 because each batch is 16 comments long. We see many of the first comments do not contain any of the 6 toxic traits."
   ]
  },
  {
   "cell_type": "code",
   "execution_count": 91,
   "id": "d2badd36",
   "metadata": {},
   "outputs": [
    {
     "data": {
      "text/plain": [
       "(array([[   8,  224,  179, ...,    0,    0,    0],\n",
       "        [  88,  830,   46, ...,    0,    0,    0],\n",
       "        [ 134,    3,    2, ...,    0,    0,    0],\n",
       "        ...,\n",
       "        [4399,  259,   32, ...,    0,    0,    0],\n",
       "        [1393, 1187,  513, ...,    0,    0,    0],\n",
       "        [2865,    7,  580, ...,    0,    0,    0]], dtype=int64),\n",
       " array([[0, 0, 0, 0, 0, 0],\n",
       "        [0, 0, 0, 0, 0, 0],\n",
       "        [0, 0, 0, 0, 0, 0],\n",
       "        [0, 0, 0, 0, 0, 0],\n",
       "        [0, 0, 0, 0, 0, 0],\n",
       "        [0, 0, 0, 0, 0, 0],\n",
       "        [0, 0, 0, 0, 0, 0],\n",
       "        [1, 0, 0, 0, 0, 0],\n",
       "        [1, 0, 0, 0, 0, 0],\n",
       "        [0, 0, 0, 0, 0, 0],\n",
       "        [0, 0, 0, 0, 0, 0],\n",
       "        [0, 0, 0, 0, 0, 0],\n",
       "        [0, 0, 0, 0, 0, 0],\n",
       "        [0, 0, 0, 0, 0, 0],\n",
       "        [0, 0, 0, 0, 0, 0],\n",
       "        [0, 0, 0, 0, 0, 0]], dtype=int64))"
      ]
     },
     "execution_count": 91,
     "metadata": {},
     "output_type": "execute_result"
    }
   ],
   "source": [
    "# random batch\n",
    "dataset.as_numpy_iterator().next()"
   ]
  },
  {
   "cell_type": "markdown",
   "id": "d2f27504",
   "metadata": {},
   "source": [
    "The data comes with a test set but with the data being so large we will just use a portion of the training data for our test data. We then use our tf.data.Dataset library to split our data into training and testing splits. Once our model is created we will test the data using the same batches of 16 comments at a time. The code for the neural network with NLP using a GRU layer is similar to what is used in Hands-On Machine Learning with Scikit-Learn, Keras and TensorFlow so I would like to reference the author, Géron, A., because without his work I would not have the coding ability that I have today when using TensorFlow and Keras to build networks such as this.  "
   ]
  },
  {
   "cell_type": "code",
   "execution_count": 92,
   "id": "fff2e820",
   "metadata": {},
   "outputs": [],
   "source": [
    "# create partitions\n",
    "train = dataset.take(int(len(dataset)*.7))\n",
    "val = dataset.skip(int(len(dataset)*.7)).take(int(len(dataset)*.2))\n",
    "test = dataset.skip(int(len(dataset)*.9)).take(int(len(dataset)*.1))"
   ]
  },
  {
   "cell_type": "code",
   "execution_count": 93,
   "id": "5e3204fa",
   "metadata": {},
   "outputs": [],
   "source": [
    "# import dependencies\n",
    "from tensorflow.keras.models import Sequential\n",
    "from tensorflow.keras.layers import GRU, Bidirectional, Dense, Embedding"
   ]
  },
  {
   "cell_type": "code",
   "execution_count": 108,
   "id": "0ece92d2",
   "metadata": {},
   "outputs": [],
   "source": [
    "model = Sequential()\n",
    "\n",
    "# Embedding layer - words will have multiple numerical representations\n",
    "model.add(Embedding(vocab_words+1, 16))\n",
    "\n",
    "# Bidirectional GRU Layer for sentences\n",
    "model.add(Bidirectional(GRU(32, activation = 'tanh', return_sequences=True)))\n",
    "\n",
    "model.add(Bidirectional(GRU(32)))\n",
    "\n",
    "# Fully connected layer\n",
    "model.add(Dense(128, activation='relu'))\n",
    "\n",
    "# Final layer \n",
    "model.add(Dense(6, activation='sigmoid'))"
   ]
  },
  {
   "cell_type": "code",
   "execution_count": 109,
   "id": "210ff5eb",
   "metadata": {},
   "outputs": [],
   "source": [
    "# compile the model\n",
    "model.compile(loss='BinaryCrossentropy', optimizer='Adam')"
   ]
  },
  {
   "cell_type": "code",
   "execution_count": 110,
   "id": "394eba64",
   "metadata": {},
   "outputs": [
    {
     "name": "stdout",
     "output_type": "stream",
     "text": [
      "Epoch 1/5\n",
      "437/437 [==============================] - 142s 309ms/step - loss: 0.1396 - val_loss: 0.0700\n",
      "Epoch 2/5\n",
      "437/437 [==============================] - 141s 322ms/step - loss: 0.0701 - val_loss: 0.0528\n",
      "Epoch 3/5\n",
      "437/437 [==============================] - 140s 319ms/step - loss: 0.0492 - val_loss: 0.0389\n",
      "Epoch 4/5\n",
      "437/437 [==============================] - 140s 321ms/step - loss: 0.0421 - val_loss: 0.0397\n",
      "Epoch 5/5\n",
      "437/437 [==============================] - 140s 320ms/step - loss: 0.0351 - val_loss: 0.0300\n"
     ]
    }
   ],
   "source": [
    "# fit our model\n",
    "history = model.fit(train, epochs=5, validation_data=val)"
   ]
  },
  {
   "cell_type": "markdown",
   "id": "f53ed8bd-2037-4977-80eb-02269f756cca",
   "metadata": {},
   "source": [
    "### Plot of Model History"
   ]
  },
  {
   "cell_type": "markdown",
   "id": "90a7bacc-437a-4278-8363-67baa5758a25",
   "metadata": {},
   "source": [
    "We created a plot very similar to this in our CNN model. This plot shows the loss and validation loss over the 5 epochs and we want to see our loss and val_loss following eachother closely towards 0. Many times the learning rate will be flat which would signify overfitting but that does not appear to be the case here. "
   ]
  },
  {
   "cell_type": "code",
   "execution_count": 111,
   "id": "757fdbbf",
   "metadata": {},
   "outputs": [
    {
     "data": {
      "text/plain": [
       "<Axes: >"
      ]
     },
     "execution_count": 111,
     "metadata": {},
     "output_type": "execute_result"
    },
    {
     "data": {
      "image/png": "[encoded data removed]",
      "text/plain": [
       "<Figure size 640x480 with 1 Axes>"
      ]
     },
     "metadata": {},
     "output_type": "display_data"
    }
   ],
   "source": [
    "# plot the losses\n",
    "pd.DataFrame(history.history).plot()"
   ]
  },
  {
   "cell_type": "markdown",
   "id": "aba3fe4b",
   "metadata": {},
   "source": [
    "### Predictions"
   ]
  },
  {
   "cell_type": "markdown",
   "id": "a38fdb49-a9fd-4d95-9a53-e20ce4a68c52",
   "metadata": {},
   "source": [
    "Now we can test our model on two new comments. The first comment will not be toxic so we would like to see small numbers for each of our 6 categories. From **result1** we see that we are getting exactly what we have hoped for as every number is small. The second comment contains toxic language but is not overly toxic or obscene so these numbers should be larger than the previous comment for our first category but not very close to one for any others. From **result2** we see that we are getting a very high number for the toxic category and somewhat high for obscene and insult. I would like the insult to be higher but for a simple model with only 5 epochs due to computer capabilities, I will take it. "
   ]
  },
  {
   "cell_type": "code",
   "execution_count": 112,
   "id": "28d8acf3",
   "metadata": {},
   "outputs": [],
   "source": [
    "# sample text of non toxic comment\n",
    "new_text = vectorizer('I love data science')"
   ]
  },
  {
   "cell_type": "code",
   "execution_count": 113,
   "id": "26c868f9",
   "metadata": {},
   "outputs": [
    {
     "name": "stdout",
     "output_type": "stream",
     "text": [
      "1/1 [==============================] - 1s 1s/step\n"
     ]
    }
   ],
   "source": [
    "# store results in result1 variable\n",
    "result1 = model.predict(np.expand_dims(new_text, 0))"
   ]
  },
  {
   "cell_type": "code",
   "execution_count": 114,
   "id": "5cbd4e11",
   "metadata": {},
   "outputs": [
    {
     "data": {
      "text/plain": [
       "array([[1.0337840e-03, 3.2887758e-07, 4.4794942e-05, 2.4279761e-05,\n",
       "        5.3742428e-05, 1.6051887e-05]], dtype=float32)"
      ]
     },
     "execution_count": 114,
     "metadata": {},
     "output_type": "execute_result"
    }
   ],
   "source": [
    "# view results\n",
    "result1"
   ]
  },
  {
   "cell_type": "code",
   "execution_count": 115,
   "id": "38b791c3",
   "metadata": {},
   "outputs": [],
   "source": [
    "# toxic comment\n",
    "new_text = vectorizer('I hate you so much loser!')"
   ]
  },
  {
   "cell_type": "code",
   "execution_count": 116,
   "id": "db49e3de",
   "metadata": {},
   "outputs": [
    {
     "name": "stdout",
     "output_type": "stream",
     "text": [
      "1/1 [==============================] - 0s 78ms/step\n"
     ]
    }
   ],
   "source": [
    "# store as result2\n",
    "result2 = model.predict(np.expand_dims(new_text, 0))"
   ]
  },
  {
   "cell_type": "code",
   "execution_count": 117,
   "id": "01035aca",
   "metadata": {},
   "outputs": [
    {
     "data": {
      "text/plain": [
       "array([[0.85131246, 0.00372517, 0.0688486 , 0.02157581, 0.20283325,\n",
       "        0.02443411]], dtype=float32)"
      ]
     },
     "execution_count": 117,
     "metadata": {},
     "output_type": "execute_result"
    }
   ],
   "source": [
    "# view toxic results\n",
    "result2"
   ]
  },
  {
   "cell_type": "markdown",
   "id": "bc5cd379-a154-41c8-ad99-6e89755af3c8",
   "metadata": {},
   "source": [
    "### Test Data Metrics"
   ]
  },
  {
   "cell_type": "code",
   "execution_count": 118,
   "id": "7f752a54",
   "metadata": {},
   "outputs": [],
   "source": [
    "# import the metric we will be using\n",
    "from tensorflow.keras.metrics import CategoricalAccuracy"
   ]
  },
  {
   "cell_type": "code",
   "execution_count": 119,
   "id": "7f42fade-aa4e-48a6-b49b-3120cbf284a3",
   "metadata": {
    "tags": []
   },
   "outputs": [],
   "source": [
    "# set up shell for metrics\n",
    "cat_acc = CategoricalAccuracy()"
   ]
  },
  {
   "cell_type": "code",
   "execution_count": 120,
   "id": "3c03d48f-0087-4b86-93d3-91ce5796f77c",
   "metadata": {
    "tags": []
   },
   "outputs": [
    {
     "name": "stdout",
     "output_type": "stream",
     "text": [
      "1/1 [==============================] - 0s 102ms/step\n",
      "1/1 [==============================] - 0s 123ms/step\n",
      "1/1 [==============================] - 0s 132ms/step\n",
      "1/1 [==============================] - 0s 84ms/step\n",
      "1/1 [==============================] - 0s 117ms/step\n",
      "1/1 [==============================] - 0s 121ms/step\n",
      "1/1 [==============================] - 0s 129ms/step\n",
      "1/1 [==============================] - 0s 115ms/step\n",
      "1/1 [==============================] - 0s 97ms/step\n",
      "1/1 [==============================] - 0s 122ms/step\n",
      "1/1 [==============================] - 0s 103ms/step\n",
      "1/1 [==============================] - 0s 107ms/step\n",
      "1/1 [==============================] - 0s 112ms/step\n",
      "1/1 [==============================] - 0s 122ms/step\n",
      "1/1 [==============================] - 0s 97ms/step\n",
      "1/1 [==============================] - 0s 101ms/step\n",
      "1/1 [==============================] - 0s 97ms/step\n",
      "1/1 [==============================] - 0s 95ms/step\n",
      "1/1 [==============================] - 0s 102ms/step\n",
      "1/1 [==============================] - 0s 105ms/step\n",
      "1/1 [==============================] - 0s 132ms/step\n",
      "1/1 [==============================] - 0s 121ms/step\n",
      "1/1 [==============================] - 0s 88ms/step\n",
      "1/1 [==============================] - 0s 153ms/step\n",
      "1/1 [==============================] - 0s 104ms/step\n",
      "1/1 [==============================] - 0s 135ms/step\n",
      "1/1 [==============================] - 0s 89ms/step\n",
      "1/1 [==============================] - 0s 98ms/step\n",
      "1/1 [==============================] - 0s 85ms/step\n",
      "1/1 [==============================] - 0s 102ms/step\n",
      "1/1 [==============================] - 0s 124ms/step\n",
      "1/1 [==============================] - 0s 87ms/step\n",
      "1/1 [==============================] - 0s 72ms/step\n",
      "1/1 [==============================] - 0s 56ms/step\n",
      "1/1 [==============================] - 0s 71ms/step\n",
      "1/1 [==============================] - 0s 58ms/step\n",
      "1/1 [==============================] - 0s 63ms/step\n",
      "1/1 [==============================] - 0s 67ms/step\n",
      "1/1 [==============================] - 0s 59ms/step\n",
      "1/1 [==============================] - 0s 77ms/step\n",
      "1/1 [==============================] - 0s 83ms/step\n",
      "1/1 [==============================] - 0s 72ms/step\n",
      "1/1 [==============================] - 0s 74ms/step\n",
      "1/1 [==============================] - 0s 58ms/step\n",
      "1/1 [==============================] - 0s 66ms/step\n",
      "1/1 [==============================] - 0s 75ms/step\n",
      "1/1 [==============================] - 0s 66ms/step\n",
      "1/1 [==============================] - 0s 53ms/step\n",
      "1/1 [==============================] - 0s 68ms/step\n",
      "1/1 [==============================] - 0s 62ms/step\n",
      "1/1 [==============================] - 0s 67ms/step\n",
      "1/1 [==============================] - 0s 55ms/step\n",
      "1/1 [==============================] - 0s 88ms/step\n",
      "1/1 [==============================] - 0s 56ms/step\n",
      "1/1 [==============================] - 0s 54ms/step\n",
      "1/1 [==============================] - 0s 52ms/step\n",
      "1/1 [==============================] - 0s 69ms/step\n",
      "1/1 [==============================] - 0s 84ms/step\n",
      "1/1 [==============================] - 0s 81ms/step\n",
      "1/1 [==============================] - 0s 59ms/step\n",
      "1/1 [==============================] - 0s 62ms/step\n",
      "1/1 [==============================] - 0s 86ms/step\n"
     ]
    }
   ],
   "source": [
    "# get all of our testing data batches \n",
    "for batch in test.as_numpy_iterator():\n",
    "    \n",
    "    # grab X true and y true values\n",
    "    X_true, y_true = batch\n",
    "    \n",
    "    # make predictions using model\n",
    "    pred = model.predict(X_true)\n",
    "    \n",
    "    # flatten values so each prediction is not a different array\n",
    "    y_true = y_true.flatten()\n",
    "    pred = pred.flatten()\n",
    "    \n",
    "    # accuracy\n",
    "    cat_acc.update_state(y_true, pred)"
   ]
  },
  {
   "cell_type": "markdown",
   "id": "57e38268-bf92-452d-8697-93b96040f3e9",
   "metadata": {},
   "source": [
    "### Conclusion"
   ]
  },
  {
   "cell_type": "markdown",
   "id": "21476a80-be91-4922-a61b-f40b49835314",
   "metadata": {},
   "source": [
    "After making predictions we see that our model is not performing too well. This model seems to do well with the toxic comment since it is the most likely outcome but has failed to learn much about the other types of comment toxicity. However, if you remember, we downsampled our data and only ran 5 epochs with a fairly shallow neural network. This is because the data is massive and I do not have a GPU so I had to keep my model simple and my data small. This is also why I choose my sentence length to be a max of 500 words and the vocabulary to be only 100,000 words. The state of the art NLP models use over 1 million words so their results will be much better. I also chose to have only 16 embeddings for each word but many models will have much more sometimes even 1000 embeddings per word. If we were to run more epochs and have more Bidirectional GRU layers the results would be better. After plugging in one comment that was not toxic and another comment that was, we saw that we accurately classified them. This model can help ensure that hateful speech is not posted on public forums and other social media to help protect those who are involved. "
   ]
  },
  {
   "cell_type": "code",
   "execution_count": 121,
   "id": "91e7b7b6-3307-46dd-ab09-fe0189298783",
   "metadata": {
    "tags": []
   },
   "outputs": [
    {
     "data": {
      "text/plain": [
       "0.5967742"
      ]
     },
     "execution_count": 121,
     "metadata": {},
     "output_type": "execute_result"
    }
   ],
   "source": [
    "# view the accuracy\n",
    "cat_acc.result().numpy()"
   ]
  },
  {
   "cell_type": "markdown",
   "id": "83abdc09-4e7c-49fe-9a9b-9a4f8ddcc670",
   "metadata": {},
   "source": [
    "#### References\n",
    "\n",
    "cjadams, Jeffrey Sorensen, Julia Elliott, Lucas Dixon, Mark McDonald, nithum, Will Cukierski. (2017). *Toxic Comment Classification Challenge*. Kaggle. https://kaggle.com/competitions/jigsaw-toxic-comment-classification-challenge\n",
    "\n",
    "Géron, A. (2019). *Hands-On Machine Learning with Scikit-Learn, Keras and TensorFlow*. Kiwisoft S.A.S.\n",
    "\n",
    "TensorFlow. (2023). *tf.keras.layers.TextVectorization*. https://www.tensorflow.org/api_docs/python/tf/keras/layers/TextVectorization\n",
    "\n",
    "Vogels, E., A. (2022). *Teens and Cyberbullying 2022*. https://www.pewresearch.org/internet/2022/12/15/teens-and-cyberbullying-2022/\n",
    "\n"
   ]
  },
  {
   "cell_type": "code",
   "execution_count": null,
   "id": "cd5e843a",
   "metadata": {},
   "outputs": [],
   "source": []
  }
 ],
 "metadata": {
  "kernelspec": {
   "display_name": "nlp",
   "language": "python",
   "name": "nlp"
  },
  "language_info": {
   "codemirror_mode": {
    "name": "ipython",
    "version": 3
   },
   "file_extension": ".py",
   "mimetype": "text/x-python",
   "name": "python",
   "nbconvert_exporter": "python",
   "pygments_lexer": "ipython3",
   "version": "3.10.9"
  }
 },
 "nbformat": 4,
 "nbformat_minor": 5
}
